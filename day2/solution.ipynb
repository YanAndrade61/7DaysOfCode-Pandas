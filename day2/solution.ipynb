{
 "cells": [
  {
   "cell_type": "markdown",
   "metadata": {},
   "source": [
    "# Alura - 7DaysOfCode - Python Pandas\n",
    "\n",
    "The objective of second day challenge is to begin preparing the loan data from UFRN libraries' collections over the past 10 years. To achieve this we will removing unnecessary data, grouping data, assigning new information.d\n",
    "\n",
    "- <i>Day 1: Importing the data</i>\n",
    "- <i><b>Day 2: Data Preparation & Context</b></i>\n",
    "    1. Create a new column for UDC class based on the location\n",
    "    2. Remove unnecessary data, delete \"registro_sistema\"\n",
    "    3. Modify data format, convert the \"matricula_ou_siape\" column to string "
   ]
  },
  {
   "cell_type": "markdown",
   "metadata": {},
   "source": [
    "## Day 1: Importing the data"
   ]
  },
  {
   "cell_type": "markdown",
   "metadata": {},
   "source": [
    "### 1. Import loan data from the last 10 years."
   ]
  },
  {
   "cell_type": "code",
   "execution_count": 43,
   "metadata": {},
   "outputs": [],
   "source": [
    "import os\n",
    "import pandas as pd"
   ]
  },
  {
   "cell_type": "code",
   "execution_count": 44,
   "metadata": {},
   "outputs": [],
   "source": [
    "fpaths = os.listdir('../datasets/dados_emprestimos')\n",
    "loans = pd.DataFrame()\n",
    "\n",
    "for fpath in fpaths:\n",
    "    tmp = pd.read_csv(f'../datasets/dados_emprestimos/{fpath}')\n",
    "    loans = pd.concat([loans, tmp])"
   ]
  },
  {
   "cell_type": "code",
   "execution_count": 45,
   "metadata": {},
   "outputs": [
    {
     "name": "stdout",
     "output_type": "stream",
     "text": [
      "Numbers of loans:  2258018\n",
      "Numbers of columns:  7\n"
     ]
    },
    {
     "data": {
      "text/html": [
       "<div>\n",
       "<style scoped>\n",
       "    .dataframe tbody tr th:only-of-type {\n",
       "        vertical-align: middle;\n",
       "    }\n",
       "\n",
       "    .dataframe tbody tr th {\n",
       "        vertical-align: top;\n",
       "    }\n",
       "\n",
       "    .dataframe thead th {\n",
       "        text-align: right;\n",
       "    }\n",
       "</style>\n",
       "<table border=\"1\" class=\"dataframe\">\n",
       "  <thead>\n",
       "    <tr style=\"text-align: right;\">\n",
       "      <th></th>\n",
       "      <th>id_emprestimo</th>\n",
       "      <th>codigo_barras</th>\n",
       "      <th>data_renovacao</th>\n",
       "      <th>data_emprestimo</th>\n",
       "      <th>data_devolucao</th>\n",
       "      <th>matricula_ou_siape</th>\n",
       "      <th>tipo_vinculo_usuario</th>\n",
       "    </tr>\n",
       "  </thead>\n",
       "  <tbody>\n",
       "    <tr>\n",
       "      <th>0</th>\n",
       "      <td>9880640</td>\n",
       "      <td>2015035868</td>\n",
       "      <td>NaN</td>\n",
       "      <td>2017/07/03 07:11:59.514000000</td>\n",
       "      <td>2017/07/03 07:12:27.000000000</td>\n",
       "      <td>2.016043e+09</td>\n",
       "      <td>ALUNO DE GRADUAÇÃO</td>\n",
       "    </tr>\n",
       "    <tr>\n",
       "      <th>1</th>\n",
       "      <td>9880644</td>\n",
       "      <td>Y012079</td>\n",
       "      <td>2017/07/18 17:56:06.584000000</td>\n",
       "      <td>2017/07/03 07:50:51.650000000</td>\n",
       "      <td>2017/08/09 18:53:58.000000000</td>\n",
       "      <td>2.015013e+10</td>\n",
       "      <td>ALUNO DE GRADUAÇÃO</td>\n",
       "    </tr>\n",
       "    <tr>\n",
       "      <th>2</th>\n",
       "      <td>9880648</td>\n",
       "      <td>2014086285</td>\n",
       "      <td>2017/08/02 03:03:43.220000000</td>\n",
       "      <td>2017/07/03 08:20:56.988000000</td>\n",
       "      <td>2017/09/01 07:48:33.000000000</td>\n",
       "      <td>2.017102e+10</td>\n",
       "      <td>ALUNO DE PÓS-GRADUAÇÃO</td>\n",
       "    </tr>\n",
       "    <tr>\n",
       "      <th>3</th>\n",
       "      <td>9880652</td>\n",
       "      <td>2014083935</td>\n",
       "      <td>2017/08/02 03:03:43.197000000</td>\n",
       "      <td>2017/07/03 08:20:57.085000000</td>\n",
       "      <td>2017/09/01 07:48:51.000000000</td>\n",
       "      <td>2.017102e+10</td>\n",
       "      <td>ALUNO DE PÓS-GRADUAÇÃO</td>\n",
       "    </tr>\n",
       "    <tr>\n",
       "      <th>4</th>\n",
       "      <td>9880656</td>\n",
       "      <td>2014086281</td>\n",
       "      <td>2017/08/02 03:03:43.175000000</td>\n",
       "      <td>2017/07/03 08:20:57.144000000</td>\n",
       "      <td>2017/09/01 07:49:01.000000000</td>\n",
       "      <td>2.017102e+10</td>\n",
       "      <td>ALUNO DE PÓS-GRADUAÇÃO</td>\n",
       "    </tr>\n",
       "  </tbody>\n",
       "</table>\n",
       "</div>"
      ],
      "text/plain": [
       "   id_emprestimo codigo_barras                 data_renovacao  \\\n",
       "0        9880640    2015035868                            NaN   \n",
       "1        9880644       Y012079  2017/07/18 17:56:06.584000000   \n",
       "2        9880648    2014086285  2017/08/02 03:03:43.220000000   \n",
       "3        9880652    2014083935  2017/08/02 03:03:43.197000000   \n",
       "4        9880656    2014086281  2017/08/02 03:03:43.175000000   \n",
       "\n",
       "                 data_emprestimo                 data_devolucao  \\\n",
       "0  2017/07/03 07:11:59.514000000  2017/07/03 07:12:27.000000000   \n",
       "1  2017/07/03 07:50:51.650000000  2017/08/09 18:53:58.000000000   \n",
       "2  2017/07/03 08:20:56.988000000  2017/09/01 07:48:33.000000000   \n",
       "3  2017/07/03 08:20:57.085000000  2017/09/01 07:48:51.000000000   \n",
       "4  2017/07/03 08:20:57.144000000  2017/09/01 07:49:01.000000000   \n",
       "\n",
       "   matricula_ou_siape    tipo_vinculo_usuario  \n",
       "0        2.016043e+09      ALUNO DE GRADUAÇÃO  \n",
       "1        2.015013e+10      ALUNO DE GRADUAÇÃO  \n",
       "2        2.017102e+10  ALUNO DE PÓS-GRADUAÇÃO  \n",
       "3        2.017102e+10  ALUNO DE PÓS-GRADUAÇÃO  \n",
       "4        2.017102e+10  ALUNO DE PÓS-GRADUAÇÃO  "
      ]
     },
     "execution_count": 45,
     "metadata": {},
     "output_type": "execute_result"
    }
   ],
   "source": [
    "print(\"Numbers of loans: \", loans.shape[0])\n",
    "print(\"Numbers of columns: \", loans.shape[1])\n",
    "loans.head(5)"
   ]
  },
  {
   "cell_type": "markdown",
   "metadata": {},
   "source": [
    "###  2. Import inventory item data."
   ]
  },
  {
   "cell_type": "code",
   "execution_count": 46,
   "metadata": {},
   "outputs": [],
   "source": [
    "fpath = '../datasets/dados_exemplares.parquet'\n",
    "books = pd.read_parquet(fpath)"
   ]
  },
  {
   "cell_type": "code",
   "execution_count": 47,
   "metadata": {},
   "outputs": [
    {
     "name": "stdout",
     "output_type": "stream",
     "text": [
      "Number of books:  546237\n",
      "Number of columns:  7\n"
     ]
    },
    {
     "data": {
      "text/html": [
       "<div>\n",
       "<style scoped>\n",
       "    .dataframe tbody tr th:only-of-type {\n",
       "        vertical-align: middle;\n",
       "    }\n",
       "\n",
       "    .dataframe tbody tr th {\n",
       "        vertical-align: top;\n",
       "    }\n",
       "\n",
       "    .dataframe thead th {\n",
       "        text-align: right;\n",
       "    }\n",
       "</style>\n",
       "<table border=\"1\" class=\"dataframe\">\n",
       "  <thead>\n",
       "    <tr style=\"text-align: right;\">\n",
       "      <th></th>\n",
       "      <th>id_exemplar</th>\n",
       "      <th>codigo_barras</th>\n",
       "      <th>colecao</th>\n",
       "      <th>biblioteca</th>\n",
       "      <th>status_material</th>\n",
       "      <th>localizacao</th>\n",
       "      <th>registro_sistema</th>\n",
       "    </tr>\n",
       "    <tr>\n",
       "      <th>index</th>\n",
       "      <th></th>\n",
       "      <th></th>\n",
       "      <th></th>\n",
       "      <th></th>\n",
       "      <th></th>\n",
       "      <th></th>\n",
       "      <th></th>\n",
       "    </tr>\n",
       "  </thead>\n",
       "  <tbody>\n",
       "    <tr>\n",
       "      <th>0</th>\n",
       "      <td>5</td>\n",
       "      <td>L000003</td>\n",
       "      <td>Acervo Circulante</td>\n",
       "      <td>Biblioteca Central Zila Mamede</td>\n",
       "      <td>REGULAR</td>\n",
       "      <td>694</td>\n",
       "      <td>1</td>\n",
       "    </tr>\n",
       "    <tr>\n",
       "      <th>1</th>\n",
       "      <td>4</td>\n",
       "      <td>L000002</td>\n",
       "      <td>Acervo Circulante</td>\n",
       "      <td>Biblioteca Central Zila Mamede</td>\n",
       "      <td>REGULAR</td>\n",
       "      <td>688</td>\n",
       "      <td>1</td>\n",
       "    </tr>\n",
       "    <tr>\n",
       "      <th>2</th>\n",
       "      <td>3</td>\n",
       "      <td>L000001</td>\n",
       "      <td>Acervo Circulante</td>\n",
       "      <td>Biblioteca Central Zila Mamede</td>\n",
       "      <td>ESPECIAL</td>\n",
       "      <td>638</td>\n",
       "      <td>1</td>\n",
       "    </tr>\n",
       "    <tr>\n",
       "      <th>3</th>\n",
       "      <td>7</td>\n",
       "      <td>L000114</td>\n",
       "      <td>Acervo Circulante</td>\n",
       "      <td>Biblioteca Central Zila Mamede</td>\n",
       "      <td>REGULAR</td>\n",
       "      <td>616</td>\n",
       "      <td>5</td>\n",
       "    </tr>\n",
       "    <tr>\n",
       "      <th>5</th>\n",
       "      <td>10</td>\n",
       "      <td>L000041</td>\n",
       "      <td>Acervo Circulante</td>\n",
       "      <td>Biblioteca Central Zila Mamede</td>\n",
       "      <td>ESPECIAL</td>\n",
       "      <td>657</td>\n",
       "      <td>15</td>\n",
       "    </tr>\n",
       "  </tbody>\n",
       "</table>\n",
       "</div>"
      ],
      "text/plain": [
       "       id_exemplar codigo_barras            colecao  \\\n",
       "index                                                 \n",
       "0                5       L000003  Acervo Circulante   \n",
       "1                4       L000002  Acervo Circulante   \n",
       "2                3       L000001  Acervo Circulante   \n",
       "3                7       L000114  Acervo Circulante   \n",
       "5               10       L000041  Acervo Circulante   \n",
       "\n",
       "                           biblioteca status_material  localizacao  \\\n",
       "index                                                                \n",
       "0      Biblioteca Central Zila Mamede         REGULAR          694   \n",
       "1      Biblioteca Central Zila Mamede         REGULAR          688   \n",
       "2      Biblioteca Central Zila Mamede        ESPECIAL          638   \n",
       "3      Biblioteca Central Zila Mamede         REGULAR          616   \n",
       "5      Biblioteca Central Zila Mamede        ESPECIAL          657   \n",
       "\n",
       "       registro_sistema  \n",
       "index                    \n",
       "0                     1  \n",
       "1                     1  \n",
       "2                     1  \n",
       "3                     5  \n",
       "5                    15  "
      ]
     },
     "execution_count": 47,
     "metadata": {},
     "output_type": "execute_result"
    }
   ],
   "source": [
    "print(\"Number of books: \", books.shape[0])\n",
    "print(\"Number of columns: \", books.shape[1])\n",
    "books.head(5)"
   ]
  },
  {
   "cell_type": "markdown",
   "metadata": {},
   "source": [
    "### 3. Merge loan and inventory item data into a single DataFrame using the barcode"
   ]
  },
  {
   "cell_type": "code",
   "execution_count": 48,
   "metadata": {},
   "outputs": [],
   "source": [
    "loans_books = pd.merge(left=loans, right=books, on='codigo_barras')"
   ]
  },
  {
   "cell_type": "code",
   "execution_count": 49,
   "metadata": {},
   "outputs": [
    {
     "data": {
      "text/html": [
       "<div>\n",
       "<style scoped>\n",
       "    .dataframe tbody tr th:only-of-type {\n",
       "        vertical-align: middle;\n",
       "    }\n",
       "\n",
       "    .dataframe tbody tr th {\n",
       "        vertical-align: top;\n",
       "    }\n",
       "\n",
       "    .dataframe thead th {\n",
       "        text-align: right;\n",
       "    }\n",
       "</style>\n",
       "<table border=\"1\" class=\"dataframe\">\n",
       "  <thead>\n",
       "    <tr style=\"text-align: right;\">\n",
       "      <th></th>\n",
       "      <th>id_emprestimo</th>\n",
       "      <th>codigo_barras</th>\n",
       "      <th>data_renovacao</th>\n",
       "      <th>data_emprestimo</th>\n",
       "      <th>data_devolucao</th>\n",
       "      <th>matricula_ou_siape</th>\n",
       "      <th>tipo_vinculo_usuario</th>\n",
       "      <th>id_exemplar</th>\n",
       "      <th>colecao</th>\n",
       "      <th>biblioteca</th>\n",
       "      <th>status_material</th>\n",
       "      <th>localizacao</th>\n",
       "      <th>registro_sistema</th>\n",
       "    </tr>\n",
       "  </thead>\n",
       "  <tbody>\n",
       "    <tr>\n",
       "      <th>0</th>\n",
       "      <td>9880640</td>\n",
       "      <td>2015035868</td>\n",
       "      <td>NaN</td>\n",
       "      <td>2017/07/03 07:11:59.514000000</td>\n",
       "      <td>2017/07/03 07:12:27.000000000</td>\n",
       "      <td>2.016043e+09</td>\n",
       "      <td>ALUNO DE GRADUAÇÃO</td>\n",
       "      <td>1217020</td>\n",
       "      <td>Acervo Circulante</td>\n",
       "      <td>Biblioteca Setorial Profª. Maria Lúcia da Cost...</td>\n",
       "      <td>REGULAR</td>\n",
       "      <td>208</td>\n",
       "      <td>214215</td>\n",
       "    </tr>\n",
       "    <tr>\n",
       "      <th>1</th>\n",
       "      <td>9880648</td>\n",
       "      <td>2014086285</td>\n",
       "      <td>2017/08/02 03:03:43.220000000</td>\n",
       "      <td>2017/07/03 08:20:56.988000000</td>\n",
       "      <td>2017/09/01 07:48:33.000000000</td>\n",
       "      <td>2.017102e+10</td>\n",
       "      <td>ALUNO DE PÓS-GRADUAÇÃO</td>\n",
       "      <td>1173407</td>\n",
       "      <td>Acervo Circulante</td>\n",
       "      <td>Biblioteca Setorial Prof. Leopoldo Nelson - ­C...</td>\n",
       "      <td>REGULAR</td>\n",
       "      <td>151</td>\n",
       "      <td>214418</td>\n",
       "    </tr>\n",
       "    <tr>\n",
       "      <th>2</th>\n",
       "      <td>9880652</td>\n",
       "      <td>2014083935</td>\n",
       "      <td>2017/08/02 03:03:43.197000000</td>\n",
       "      <td>2017/07/03 08:20:57.085000000</td>\n",
       "      <td>2017/09/01 07:48:51.000000000</td>\n",
       "      <td>2.017102e+10</td>\n",
       "      <td>ALUNO DE PÓS-GRADUAÇÃO</td>\n",
       "      <td>1173614</td>\n",
       "      <td>Acervo Circulante</td>\n",
       "      <td>Biblioteca Setorial Prof. Leopoldo Nelson - ­C...</td>\n",
       "      <td>REGULAR</td>\n",
       "      <td>141</td>\n",
       "      <td>213367</td>\n",
       "    </tr>\n",
       "  </tbody>\n",
       "</table>\n",
       "</div>"
      ],
      "text/plain": [
       "   id_emprestimo codigo_barras                 data_renovacao  \\\n",
       "0        9880640    2015035868                            NaN   \n",
       "1        9880648    2014086285  2017/08/02 03:03:43.220000000   \n",
       "2        9880652    2014083935  2017/08/02 03:03:43.197000000   \n",
       "\n",
       "                 data_emprestimo                 data_devolucao  \\\n",
       "0  2017/07/03 07:11:59.514000000  2017/07/03 07:12:27.000000000   \n",
       "1  2017/07/03 08:20:56.988000000  2017/09/01 07:48:33.000000000   \n",
       "2  2017/07/03 08:20:57.085000000  2017/09/01 07:48:51.000000000   \n",
       "\n",
       "   matricula_ou_siape    tipo_vinculo_usuario  id_exemplar            colecao  \\\n",
       "0        2.016043e+09      ALUNO DE GRADUAÇÃO      1217020  Acervo Circulante   \n",
       "1        2.017102e+10  ALUNO DE PÓS-GRADUAÇÃO      1173407  Acervo Circulante   \n",
       "2        2.017102e+10  ALUNO DE PÓS-GRADUAÇÃO      1173614  Acervo Circulante   \n",
       "\n",
       "                                          biblioteca status_material  \\\n",
       "0  Biblioteca Setorial Profª. Maria Lúcia da Cost...         REGULAR   \n",
       "1  Biblioteca Setorial Prof. Leopoldo Nelson - ­C...         REGULAR   \n",
       "2  Biblioteca Setorial Prof. Leopoldo Nelson - ­C...         REGULAR   \n",
       "\n",
       "   localizacao  registro_sistema  \n",
       "0          208            214215  \n",
       "1          151            214418  \n",
       "2          141            213367  "
      ]
     },
     "execution_count": 49,
     "metadata": {},
     "output_type": "execute_result"
    }
   ],
   "source": [
    "loans_books.head(3)"
   ]
  },
  {
   "cell_type": "markdown",
   "metadata": {},
   "source": [
    "### 4. Clean the data by handling null and duplicate values."
   ]
  },
  {
   "cell_type": "code",
   "execution_count": 50,
   "metadata": {},
   "outputs": [
    {
     "name": "stdout",
     "output_type": "stream",
     "text": [
      "Numebr of null values per column:\n"
     ]
    },
    {
     "data": {
      "text/plain": [
       "id_emprestimo                 0\n",
       "codigo_barras                 0\n",
       "data_renovacao          1162088\n",
       "data_emprestimo               0\n",
       "data_devolucao             6178\n",
       "matricula_ou_siape         2893\n",
       "tipo_vinculo_usuario          0\n",
       "id_exemplar                   0\n",
       "colecao                       0\n",
       "biblioteca                    0\n",
       "status_material               0\n",
       "localizacao                   0\n",
       "registro_sistema              0\n",
       "dtype: int64"
      ]
     },
     "execution_count": 50,
     "metadata": {},
     "output_type": "execute_result"
    }
   ],
   "source": [
    "print('Numebr of null values per column:')\n",
    "loans_books.isnull().sum()"
   ]
  },
  {
   "cell_type": "code",
   "execution_count": 51,
   "metadata": {},
   "outputs": [],
   "source": [
    "# Drop all rows that have a loan without student \n",
    "loans_books.dropna(subset=['matricula_ou_siape'], axis=0, inplace=True)"
   ]
  },
  {
   "cell_type": "code",
   "execution_count": 52,
   "metadata": {},
   "outputs": [
    {
     "name": "stdout",
     "output_type": "stream",
     "text": [
      "Number of duplicated rows: 36\n"
     ]
    }
   ],
   "source": [
    "print('Number of duplicated rows:', loans_books.duplicated().sum())"
   ]
  },
  {
   "cell_type": "code",
   "execution_count": 53,
   "metadata": {},
   "outputs": [],
   "source": [
    "# Drop all duplicates rows\n",
    "loans_books.drop_duplicates(inplace=True)"
   ]
  },
  {
   "cell_type": "markdown",
   "metadata": {},
   "source": [
    "## Day 2: Data preparation & Context"
   ]
  },
  {
   "cell_type": "markdown",
   "metadata": {},
   "source": [
    "### 1. Create a new column for UDC class based on the location\n",
    "UDC main class:\n",
    "- 000-099: Generalities. Science and knowledge.\n",
    "- 100-199: Philosophy and psychology.\n",
    "- 200-299: Religion.\n",
    "- 300-399: Social sciences.\n",
    "- 400-499: Unassigned class. Temporarily not in use.\n",
    "- 500-599: Mathematics and natural sciences.\n",
    "- 600-699: Technology (Applied sciences).\n",
    "- 700-799: Arts.\n",
    "- 800-899: Literature. Rhetoric. Literary criticism.\n",
    "- 900-999: Geography. Biography. History."
   ]
  },
  {
   "cell_type": "code",
   "execution_count": 54,
   "metadata": {},
   "outputs": [],
   "source": [
    "udc = {\n",
    "    0: \"Generalities. Science and knowledge.\",\n",
    "    1: \"Philosophy and psychology.\",\n",
    "    2: \"Religion.\",\n",
    "    3: \"Social sciences.\",\n",
    "    4: \"Unassigned class. Temporarily not in use.\",\n",
    "    5: \"Mathematics and natural sciences.\",\n",
    "    6: \"Technology (Applied sciences).\",\n",
    "    7: \"Arts.\",\n",
    "    8: \"Literature. Rhetoric. Literary criticism.\",\n",
    "    9: \"Geography. Biography. History.\"\n",
    "}\n",
    "def code2udc(code: int):\n",
    "    return udc[code//100] if code//100 in udc else -1"
   ]
  },
  {
   "cell_type": "code",
   "execution_count": 55,
   "metadata": {},
   "outputs": [],
   "source": [
    "loans_books['udc'] = loans_books['localizacao'].apply(lambda loc: code2udc(int(loc)))"
   ]
  },
  {
   "cell_type": "code",
   "execution_count": 56,
   "metadata": {},
   "outputs": [
    {
     "data": {
      "text/html": [
       "<div>\n",
       "<style scoped>\n",
       "    .dataframe tbody tr th:only-of-type {\n",
       "        vertical-align: middle;\n",
       "    }\n",
       "\n",
       "    .dataframe tbody tr th {\n",
       "        vertical-align: top;\n",
       "    }\n",
       "\n",
       "    .dataframe thead th {\n",
       "        text-align: right;\n",
       "    }\n",
       "</style>\n",
       "<table border=\"1\" class=\"dataframe\">\n",
       "  <thead>\n",
       "    <tr style=\"text-align: right;\">\n",
       "      <th></th>\n",
       "      <th>id_exemplar</th>\n",
       "      <th>udc</th>\n",
       "    </tr>\n",
       "  </thead>\n",
       "  <tbody>\n",
       "    <tr>\n",
       "      <th>0</th>\n",
       "      <td>1217020</td>\n",
       "      <td>Religion.</td>\n",
       "    </tr>\n",
       "    <tr>\n",
       "      <th>1</th>\n",
       "      <td>1173407</td>\n",
       "      <td>Philosophy and psychology.</td>\n",
       "    </tr>\n",
       "    <tr>\n",
       "      <th>2</th>\n",
       "      <td>1173614</td>\n",
       "      <td>Philosophy and psychology.</td>\n",
       "    </tr>\n",
       "  </tbody>\n",
       "</table>\n",
       "</div>"
      ],
      "text/plain": [
       "   id_exemplar                         udc\n",
       "0      1217020                   Religion.\n",
       "1      1173407  Philosophy and psychology.\n",
       "2      1173614  Philosophy and psychology."
      ]
     },
     "execution_count": 56,
     "metadata": {},
     "output_type": "execute_result"
    }
   ],
   "source": [
    "loans_books[['id_exemplar', 'udc']].head(3)"
   ]
  },
  {
   "cell_type": "markdown",
   "metadata": {},
   "source": [
    "### 2. Remove unnecessary data, delete \"registro_sistema\""
   ]
  },
  {
   "cell_type": "code",
   "execution_count": 57,
   "metadata": {},
   "outputs": [],
   "source": [
    "loans_books.drop('registro_sistema', axis=1, inplace = True)"
   ]
  },
  {
   "cell_type": "markdown",
   "metadata": {},
   "source": [
    "### 3. Modify data format, convert the \"matricula_ou_siape\" column to string "
   ]
  },
  {
   "cell_type": "code",
   "execution_count": 60,
   "metadata": {},
   "outputs": [],
   "source": [
    "# First format as int, to exclud the point float from the final string\n",
    "loans_books['matricula_ou_siape'] = loans_books['matricula_ou_siape'].astype('int').astype('str')"
   ]
  },
  {
   "cell_type": "code",
   "execution_count": 59,
   "metadata": {},
   "outputs": [
    {
     "data": {
      "text/html": [
       "<div>\n",
       "<style scoped>\n",
       "    .dataframe tbody tr th:only-of-type {\n",
       "        vertical-align: middle;\n",
       "    }\n",
       "\n",
       "    .dataframe tbody tr th {\n",
       "        vertical-align: top;\n",
       "    }\n",
       "\n",
       "    .dataframe thead th {\n",
       "        text-align: right;\n",
       "    }\n",
       "</style>\n",
       "<table border=\"1\" class=\"dataframe\">\n",
       "  <thead>\n",
       "    <tr style=\"text-align: right;\">\n",
       "      <th></th>\n",
       "      <th>id_emprestimo</th>\n",
       "      <th>matricula_ou_siape</th>\n",
       "    </tr>\n",
       "  </thead>\n",
       "  <tbody>\n",
       "    <tr>\n",
       "      <th>0</th>\n",
       "      <td>9880640</td>\n",
       "      <td>2016042604</td>\n",
       "    </tr>\n",
       "    <tr>\n",
       "      <th>1</th>\n",
       "      <td>9880648</td>\n",
       "      <td>20171015563</td>\n",
       "    </tr>\n",
       "    <tr>\n",
       "      <th>2</th>\n",
       "      <td>9880652</td>\n",
       "      <td>20171015563</td>\n",
       "    </tr>\n",
       "  </tbody>\n",
       "</table>\n",
       "</div>"
      ],
      "text/plain": [
       "   id_emprestimo matricula_ou_siape\n",
       "0        9880640         2016042604\n",
       "1        9880648        20171015563\n",
       "2        9880652        20171015563"
      ]
     },
     "execution_count": 59,
     "metadata": {},
     "output_type": "execute_result"
    }
   ],
   "source": [
    "loans_books[['id_emprestimo', 'matricula_ou_siape']].head(3)"
   ]
  }
 ],
 "metadata": {
  "kernelspec": {
   "display_name": ".env",
   "language": "python",
   "name": "python3"
  },
  "language_info": {
   "codemirror_mode": {
    "name": "ipython",
    "version": 3
   },
   "file_extension": ".py",
   "mimetype": "text/x-python",
   "name": "python",
   "nbconvert_exporter": "python",
   "pygments_lexer": "ipython3",
   "version": "3.12.3"
  }
 },
 "nbformat": 4,
 "nbformat_minor": 2
}
